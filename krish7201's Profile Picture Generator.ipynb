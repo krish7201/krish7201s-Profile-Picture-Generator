{
 "cells": [
  {
   "cell_type": "code",
   "execution_count": 158,
   "id": "badf1611",
   "metadata": {},
   "outputs": [
    {
     "data": {
      "image/png": "[encoded data removed]",
      "text/plain": [
       "<PIL.Image.Image image mode=RGB size=700x700>"
      ]
     },
     "execution_count": 158,
     "metadata": {},
     "output_type": "execute_result"
    }
   ],
   "source": [
    "from PIL import Image\n",
    "import random\n",
    "\n",
    "def newImg():\n",
    "    #new 7*7 canvas with white background\n",
    "    img = Image.new('RGB', (7, 7), color=(random.randint(0, 254), random.randint(0, 254), random.randint(0, 254)))\n",
    "    \n",
    "    numIterations = random.randint(0, 27)\n",
    "    numPixels = 0\n",
    "    pixelsPlaced = []\n",
    "    curPixel = (random.randint(0, 3), random.randint(0, 3))\n",
    "    \n",
    "    #for each iteration, new color\n",
    "    for iterations in range(numIterations):\n",
    "        R = random.randint(0, 254)\n",
    "        G = random.randint(0, 254)\n",
    "        B = random.randint(0, 254)\n",
    "        numPixels = random.randint(3, 12)\n",
    "        pixelsPlaced = []\n",
    "    \n",
    "        #for each layer, don't place any pixel where another pixel already is in the layer\n",
    "        for i in range(numPixels):\n",
    "\n",
    "            curPixel = (random.randint(0, 3), random.randint(0, 3))\n",
    "            while curPixel in pixelsPlaced:\n",
    "                curPixel = (random.randint(0, 3), random.randint(0, 3))\n",
    "                \n",
    "            pixelsPlaced.append(curPixel)\n",
    "            img.putpixel((curPixel[0], curPixel[1]), (R,G,B))\n",
    "            img.putpixel((3 + (3 - curPixel[0]), curPixel[1]), (R,G,B))\n",
    "            img.putpixel((curPixel[0], 3 + (3 - curPixel[1])), (R,G,B))\n",
    "            img.putpixel((3 + (3 - curPixel[0]), 3 + (3 - curPixel[1])), (R,G,B))\n",
    "            \n",
    "    #google credit: https://stackoverflow.com/questions/23460275/python-upscale-image-without-blur-pil\n",
    "    #for this upscaling bit\n",
    "    img = img.resize((700, 700), resample=Image.BOX)\n",
    "    \n",
    "    #google credit: https://stackoverflow.com/questions/54346063/how-to-draw-square-pixel-by-pixel-python-pil\n",
    "    #for broader program flow\n",
    "    img.save('profile_picture.png')\n",
    "    \n",
    "    return img\n",
    "\n",
    "newImg()"
   ]
  },
  {
   "cell_type": "code",
   "execution_count": null,
   "id": "3387fe4e",
   "metadata": {},
   "outputs": [],
   "source": []
  }
 ],
 "metadata": {
  "kernelspec": {
   "display_name": "Python 3 (ipykernel)",
   "language": "python",
   "name": "python3"
  },
  "language_info": {
   "codemirror_mode": {
    "name": "ipython",
    "version": 3
   },
   "file_extension": ".py",
   "mimetype": "text/x-python",
   "name": "python",
   "nbconvert_exporter": "python",
   "pygments_lexer": "ipython3",
   "version": "3.10.4"
  }
 },
 "nbformat": 4,
 "nbformat_minor": 5
}
