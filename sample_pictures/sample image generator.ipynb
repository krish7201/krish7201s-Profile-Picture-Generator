{
 "cells": [
  {
   "cell_type": "code",
   "execution_count": 10,
   "id": "3e735f8e",
   "metadata": {},
   "outputs": [
    {
     "name": "stdout",
     "output_type": "stream",
     "text": [
      "sample_picture_0.png\n",
      "sample_picture_1.png\n",
      "sample_picture_2.png\n",
      "sample_picture_3.png\n",
      "sample_picture_4.png\n",
      "sample_picture_5.png\n",
      "sample_picture_6.png\n",
      "sample_picture_7.png\n",
      "sample_picture_8.png\n",
      "sample_picture_9.png\n",
      "sample_picture_10.png\n",
      "sample_picture_11.png\n",
      "sample_picture_12.png\n",
      "sample_picture_13.png\n",
      "sample_picture_14.png\n",
      "sample_picture_15.png\n"
     ]
    }
   ],
   "source": [
    "from PIL import Image\n",
    "import random\n",
    "\n",
    "count=0\n",
    "\n",
    "def newImg():\n",
    "    #new 7*7 canvas with white background\n",
    "    img = Image.new('RGB', (7, 7), color=(random.randint(0, 254), random.randint(0, 254), random.randint(0, 254)))\n",
    "    \n",
    "    numIterations = random.randint(0, 27)\n",
    "    numPixels = 0\n",
    "    pixelsPlaced = []\n",
    "    curPixel = (random.randint(0, 3), random.randint(0, 3))\n",
    "    \n",
    "    #for each iteration, new color\n",
    "    for iterations in range(numIterations):\n",
    "        R = random.randint(0, 254)\n",
    "        G = random.randint(0, 254)\n",
    "        B = random.randint(0, 254)\n",
    "        numPixels = random.randint(3, 12)\n",
    "        pixelsPlaced = []\n",
    "    \n",
    "        #for each layer, don't place any pixel where another pixel already is in the layer\n",
    "        for i in range(numPixels):\n",
    "\n",
    "            curPixel = (random.randint(0, 3), random.randint(0, 3))\n",
    "            while curPixel in pixelsPlaced:\n",
    "                curPixel = (random.randint(0, 3), random.randint(0, 3))\n",
    "                \n",
    "            pixelsPlaced.append(curPixel)\n",
    "            img.putpixel((curPixel[0], curPixel[1]), (R,G,B))\n",
    "            img.putpixel((3 + (3 - curPixel[0]), curPixel[1]), (R,G,B))\n",
    "            img.putpixel((curPixel[0], 3 + (3 - curPixel[1])), (R,G,B))\n",
    "            img.putpixel((3 + (3 - curPixel[0]), 3 + (3 - curPixel[1])), (R,G,B))\n",
    "            \n",
    "    #google credit: https://stackoverflow.com/questions/23460275/python-upscale-image-without-blur-pil\n",
    "    #for this upscaling bit\n",
    "    img = img.resize((175, 175), resample=Image.BOX)\n",
    "    \n",
    "    #google credit: https://stackoverflow.com/questions/54346063/how-to-draw-square-pixel-by-pixel-python-pil\n",
    "    #for broader program flow\n",
    "    fileName = \"sample_picture_\" + str(count) + \".png\"\n",
    "    print(fileName)\n",
    "    img.save(fileName)\n",
    "    \n",
    "    return img\n",
    "\n",
    "for i in range(16):\n",
    "    count = i\n",
    "    newImg()"
   ]
  },
  {
   "cell_type": "code",
   "execution_count": null,
   "id": "b0d2da79",
   "metadata": {},
   "outputs": [],
   "source": []
  }
 ],
 "metadata": {
  "kernelspec": {
   "display_name": "Python 3 (ipykernel)",
   "language": "python",
   "name": "python3"
  },
  "language_info": {
   "codemirror_mode": {
    "name": "ipython",
    "version": 3
   },
   "file_extension": ".py",
   "mimetype": "text/x-python",
   "name": "python",
   "nbconvert_exporter": "python",
   "pygments_lexer": "ipython3",
   "version": "3.10.4"
  }
 },
 "nbformat": 4,
 "nbformat_minor": 5
}
